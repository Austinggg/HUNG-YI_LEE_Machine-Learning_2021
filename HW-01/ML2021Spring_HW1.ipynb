{
  "cells": [
    {
      "cell_type": "markdown",
      "metadata": {
        "id": "mz0_QVkxCrX3"
      },
      "source": [
        "# **Homework 1: COVID-19 Cases Prediction (Regression)**"
      ]
    },
    {
      "cell_type": "markdown",
      "metadata": {
        "id": "Jx3x1nDkG-Uy"
      },
      "source": [
        "# **Download Data**\n",
        "\n",
        "\n",
        "If the Google drive links are dead, you can download data from [kaggle](https://www.kaggle.com/c/ml2021spring-hw1/data), and upload data manually to the workspace."
      ]
    },
    {
      "cell_type": "code",
      "execution_count": 130,
      "metadata": {
        "colab": {
          "base_uri": "https://localhost:8080/"
        },
        "id": "tMj55YDKG6ch",
        "outputId": "fc40ecc9-4756-48b1-d5c6-c169a8b453b2"
      },
      "outputs": [],
      "source": [
        "tr_path = 'covid.train.csv'  # path to training data\n",
        "tt_path = 'covid.test.csv'   # path to testing data"
      ]
    },
    {
      "cell_type": "markdown",
      "metadata": {
        "id": "wS_4-77xHk44"
      },
      "source": [
        "# **Import Some Packages**"
      ]
    },
    {
      "cell_type": "code",
      "execution_count": 1,
      "metadata": {
        "id": "k-onQd4JNA5H"
      },
      "outputs": [],
      "source": [
        "# PyTorch\n",
        "import torch\n",
        "import torch.nn as nn\n",
        "from torch.utils.data import Dataset, DataLoader\n",
        "\n",
        "# For data preprocess\n",
        "import numpy as np\n",
        "import pandas as pd\n",
        "import csv\n",
        "import os\n",
        "\n",
        "# For plotting\n",
        "import matplotlib.pyplot as plt\n",
        "from matplotlib.pyplot import figure\n",
        "\n",
        "# Sklearn\n",
        "import sklearn\n",
        "from sklearn.feature_selection import SelectKBest\n",
        "from sklearn.feature_selection import f_regression\n",
        "from sklearn import preprocessing\n",
        "\n",
        "# Pandas\n",
        "import pandas as pd\n",
        "\n",
        "myseed = 42069  # set a random seed for reproducibility\n",
        "torch.backends.cudnn.deterministic = True\n",
        "torch.backends.cudnn.benchmark = False\n",
        "np.random.seed(myseed)\n",
        "torch.manual_seed(myseed)\n",
        "if torch.cuda.is_available():\n",
        "    torch.cuda.manual_seed_all(myseed)"
      ]
    },
    {
      "cell_type": "markdown",
      "metadata": {
        "id": "BtE3b6JEH7rw"
      },
      "source": [
        "# **Some Utilities**\n",
        "\n",
        "You do not need to modify this part."
      ]
    },
    {
      "cell_type": "code",
      "execution_count": 132,
      "metadata": {
        "id": "FWMT3uf1NGQp"
      },
      "outputs": [],
      "source": [
        "def get_device():\n",
        "    ''' Get device (if GPU is available, use GPU) '''\n",
        "    return 'cuda' if torch.cuda.is_available() else 'cpu'\n",
        "\n",
        "def plot_learning_curve(loss_record, title=''):\n",
        "    ''' Plot learning curve of your DNN (train & dev loss) '''\n",
        "    total_steps = len(loss_record['train'])\n",
        "    x_1 = range(total_steps)\n",
        "    x_2 = x_1[::len(loss_record['train']) // len(loss_record['dev'])]\n",
        "    figure(figsize=(6, 4))\n",
        "    plt.plot(x_1, loss_record['train'], c='tab:red', label='train')\n",
        "    plt.plot(x_2, loss_record['dev'], c='tab:cyan', label='dev')\n",
        "    plt.ylim(0.0, 5.)\n",
        "    plt.xlabel('Training steps')\n",
        "    plt.ylabel('MSE loss')\n",
        "    plt.title('Learning curve of {}'.format(title))\n",
        "    plt.legend()\n",
        "    plt.show()\n",
        "\n",
        "\n",
        "def plot_pred(dv_set, model, device, lim=35., preds=None, targets=None):\n",
        "    ''' Plot prediction of your DNN '''\n",
        "    if preds is None or targets is None:\n",
        "        model.eval()\n",
        "        preds, targets = [], []\n",
        "        for x, y in dv_set:\n",
        "            x, y = x.to(device), y.to(device)\n",
        "            with torch.no_grad():\n",
        "                pred = model(x)\n",
        "                preds.append(pred.detach().cpu())\n",
        "                targets.append(y.detach().cpu())\n",
        "        preds = torch.cat(preds, dim=0).numpy()\n",
        "        targets = torch.cat(targets, dim=0).numpy()\n",
        "\n",
        "    figure(figsize=(5, 5))\n",
        "    plt.scatter(targets, preds, c='r', alpha=0.5)\n",
        "    plt.plot([-0.2, lim], [-0.2, lim], c='b')\n",
        "    plt.xlim(-0.2, lim)\n",
        "    plt.ylim(-0.2, lim)\n",
        "    plt.xlabel('ground truth value')\n",
        "    plt.ylabel('predicted value')\n",
        "    plt.title('Ground Truth v.s. Prediction')\n",
        "    plt.show()"
      ]
    },
    {
      "cell_type": "markdown",
      "metadata": {
        "id": "39U_XFX6KOoj"
      },
      "source": [
        "# **Preprocess**\n",
        "\n",
        "We have three kinds of datasets:\n",
        "* `train`: for training\n",
        "* `dev`: for validation\n",
        "* `test`: for testing (w/o target value)"
      ]
    },
    {
      "cell_type": "markdown",
      "metadata": {},
      "source": [
        "## Feature Selection"
      ]
    },
    {
      "cell_type": "code",
      "execution_count": 133,
      "metadata": {},
      "outputs": [
        {
          "name": "stdout",
          "output_type": "stream",
          "text": [
            "                 Specs          Score\n",
            "75   tested_positive.1  148069.658278\n",
            "57     tested_positive   69603.872591\n",
            "42        hh_cmnty_cli    9235.492094\n",
            "60      hh_cmnty_cli.1    9209.019558\n",
            "78      hh_cmnty_cli.2    9097.375172\n",
            "43      nohh_cmnty_cli    8395.421300\n",
            "61    nohh_cmnty_cli.1    8343.255927\n",
            "79    nohh_cmnty_cli.2    8208.176435\n",
            "40                 cli    6388.906849\n",
            "58               cli.1    6374.548000\n",
            "76               cli.2    6250.008702\n",
            "41                 ili    5998.922880\n",
            "59               ili.1    5937.588576\n",
            "77               ili.2    5796.947672\n",
            "92  worried_finances.2     833.613191\n",
            "74  worried_finances.1     811.916460\n",
            "56    worried_finances     788.076931\n",
            "87    public_transit.2     686.736539\n",
            "69    public_transit.1     681.562902\n",
            "51      public_transit     678.834789\n",
            "[75, 57, 42, 60, 78, 43, 61, 79, 40, 58, 76, 41, 59, 77, 92, 74, 56]\n"
          ]
        }
      ],
      "source": [
        "# Feature Selection\n",
        "\n",
        "data = pd.read_csv(r'./covid.train.csv')\n",
        "x = data[data.columns[1:94]]\n",
        "y = data[data.columns[94]]\n",
        "\n",
        "# Normalisation\n",
        "x = (x - x.min()) / (x.max() - x.min())\n",
        "\n",
        "# Create an instance of SelectKBest without specifying 'k'\n",
        "bestfeatures = SelectKBest(score_func=f_regression)\n",
        "\n",
        "# Compute the scores for all features\n",
        "fit = bestfeatures.fit(x,y)\n",
        "\n",
        "# Convert the scores into a DataFrame\n",
        "dfscores = pd.DataFrame(fit.scores_)\n",
        "\n",
        "# Create a DataFrame of the column names\n",
        "dfcolumns = pd.DataFrame(x.columns)\n",
        "\n",
        "# Concatenate the two DataFrames for better visualization\n",
        "featureScores = pd.concat([dfcolumns,dfscores],axis=1)\n",
        "\n",
        "# Name the DataFrame columns\n",
        "featureScores.columns = ['Specs','Score']  \n",
        "\n",
        "# Print the 20 rows with the highest scores\n",
        "print(featureScores.nlargest(20,'Score'))  \n",
        "\n",
        "# Print the index of the most important features\n",
        "top_rows = featureScores.nlargest(20, 'Score').index.tolist()[:17]\n",
        "print(top_rows)"
      ]
    },
    {
      "cell_type": "markdown",
      "metadata": {
        "id": "TQ-MdwpLL7Dt"
      },
      "source": [
        "## **Dataset**\n",
        "\n",
        "The `COVID19Dataset` below does:\n",
        "* read `.csv` files\n",
        "* extract features\n",
        "* split `covid.train.csv` into train/dev sets\n",
        "* normalize features\n",
        "\n",
        "Finishing `TODO` below might make you pass medium baseline."
      ]
    },
    {
      "cell_type": "code",
      "execution_count": 134,
      "metadata": {
        "id": "0zlpIp9ANJRU"
      },
      "outputs": [],
      "source": [
        "class COVID19Dataset(Dataset):\n",
        "    ''' Dataset for loading and preprocessing the COVID19 dataset '''\n",
        "    def __init__(self,\n",
        "                 path,\n",
        "                 mode='train',\n",
        "                 target_only=True):\n",
        "        self.mode = mode\n",
        "\n",
        "        # Read data into numpy arrays\n",
        "        with open(path, 'r') as fp:\n",
        "            data = list(csv.reader(fp))\n",
        "            data = np.array(data[1:])[:, 1:].astype(float) # remove the first row and first line\n",
        "\n",
        "        if not target_only:\n",
        "            feats = list(range(93))\n",
        "        else:\n",
        "            # TODO: Feature selection\n",
        "            # You can use the following code to get feature scores\n",
        "            feats = [75, 57, 42, 60, 78, 43, 61, 79, 40, 58, 76, 41, 59, 77]\n",
        "            pass\n",
        "\n",
        "        if mode == 'test':\n",
        "            # Testing data\n",
        "            # data: 893 x 93 (40 states + day 1 (18) + day 2 (18) + day 3 (17))\n",
        "            data = data[:, feats]\n",
        "            self.data = torch.FloatTensor(data)\n",
        "        else:\n",
        "            # Training data (train/dev sets)\n",
        "            # data: 2700 x 94 (40 states + day 1 (18) + day 2 (18) + day 3 (18))\n",
        "            target = data[:, -1]\n",
        "            data = data[:, feats]\n",
        "\n",
        "            # Splitting training data into train & dev sets\n",
        "            if mode == 'train':\n",
        "                indices = [i for i in range(len(data)) if i % 10 != 0]\n",
        "            elif mode == 'dev':\n",
        "                indices = [i for i in range(len(data)) if i % 10 == 0]\n",
        "\n",
        "            # Convert data into PyTorch tensors\n",
        "            self.data = torch.FloatTensor(data[indices])\n",
        "            self.target = torch.FloatTensor(target[indices])\n",
        "\n",
        "        # Normalize features (you may remove this part to see what will happen)\n",
        "        self.data[:, 40:] = \\\n",
        "            (self.data[:, 40:] - self.data[:, 40:].mean(dim=0, keepdim=True)) \\\n",
        "            / self.data[:, 40:].std(dim=0, keepdim=True)\n",
        "\n",
        "        self.dim = self.data.shape[1]\n",
        "\n",
        "        print('Finished reading the {} set of COVID19 Dataset ({} samples found, each dim = {})'\n",
        "              .format(mode, len(self.data), self.dim))\n",
        "\n",
        "    def __getitem__(self, index):\n",
        "        # Returns one sample at a time\n",
        "        if self.mode in ['train', 'dev']:\n",
        "            # For training\n",
        "            return self.data[index], self.target[index]\n",
        "        else:\n",
        "            # For testing (no target)\n",
        "            return self.data[index]\n",
        "\n",
        "    def __len__(self):\n",
        "        # Returns the size of the dataset\n",
        "        return len(self.data)"
      ]
    },
    {
      "cell_type": "markdown",
      "metadata": {
        "id": "AlhTlkE7MDo3"
      },
      "source": [
        "## **DataLoader**\n",
        "\n",
        "A `DataLoader` loads data from a given `Dataset` into batches.\n"
      ]
    },
    {
      "cell_type": "code",
      "execution_count": 135,
      "metadata": {
        "id": "hlhLk5t6MBX3"
      },
      "outputs": [],
      "source": [
        "def prep_dataloader(path, mode, batch_size, n_jobs=0, target_only=True):\n",
        "    ''' Generates a dataset, then is put into a dataloader. '''\n",
        "    dataset = COVID19Dataset(path, mode=mode, target_only=target_only)  # Construct dataset\n",
        "    dataloader = DataLoader(\n",
        "        dataset, batch_size,\n",
        "        shuffle=(mode == 'train'), drop_last=False,\n",
        "        num_workers=n_jobs, pin_memory=True)                            # Construct dataloader\n",
        "    return dataloader"
      ]
    },
    {
      "cell_type": "markdown",
      "metadata": {
        "id": "SGuycwR0MeQB"
      },
      "source": [
        "# **Deep Neural Network**\n",
        "\n",
        "`NeuralNet` is an `nn.Module` designed for regression.\n",
        "The DNN consists of 2 fully-connected layers with ReLU activation.\n",
        "This module also included a function `cal_loss` for calculating loss.\n"
      ]
    },
    {
      "cell_type": "code",
      "execution_count": 136,
      "metadata": {
        "id": "49-uXYovOAI0"
      },
      "outputs": [],
      "source": [
        "class NeuralNet(nn.Module):\n",
        "    ''' A simple fully-connected deep neural network '''\n",
        "    def __init__(self, input_dim):\n",
        "        super(NeuralNet, self).__init__()\n",
        "\n",
        "        # Define your neural network here\n",
        "        # TODO: How to modify this model to achieve better performance?\n",
        "        #self.net = nn.Sequential(\n",
        "        #    nn.Linear(input_dim, 64),\n",
        "        #    nn.ReLU(),\n",
        "        #    nn.Linear(64, 1)\n",
        "        #)\n",
        "        self.net = nn.Sequential(\n",
        "            nn.Linear(input_dim, 64),    # 输入层到第一个隐藏层，全连接层，输入维度为 input_dim，输出维度为 16\n",
        "            nn.BatchNorm1d(64),          # 对第一个隐藏层的输出进行批量归一化，保持输出的均值为0，方差为1，防止梯度消失或爆炸\n",
        "            nn.Dropout(p=0.2),           # Dropout层，在训练过程中随机将20%的神经元输出设为0，用于防止过拟合\n",
        "            nn.ReLU(),                   # 使用ReLU激活函数，将线性变换后的输出进行非线性映射，增加模型的表达能力\n",
        "            nn.Linear(64, 1)             # 第二个全连接层，将16维的隐藏层输出转换为1维，作为最终的输出\n",
        "        )\n",
        "\n",
        "\n",
        "        # Mean squared error loss\n",
        "        self.criterion = nn.MSELoss(reduction='mean')\n",
        "\n",
        "    def forward(self, x):\n",
        "        ''' Given input of size (batch_size x input_dim), compute output of the network '''\n",
        "        return self.net(x).squeeze(1)\n",
        "\n",
        "    def cal_loss(self, pred, target):\n",
        "        ''' Calculate loss '''\n",
        "        regularization_loss = 0\n",
        "\n",
        "        for param in model.parameters():\n",
        "        # TODO: you may implement L1/L2 regularization here\n",
        "                    regularization_loss += torch.sum(param ** 2)\n",
        "        return self.criterion(pred, target) + 0.00075 * regularization_loss\n",
        "    \n",
        "        #return self.criterion(pred, target)"
      ]
    },
    {
      "cell_type": "markdown",
      "metadata": {
        "id": "DvFWVjZ5Nvga"
      },
      "source": [
        "# **Train/Dev/Test**"
      ]
    },
    {
      "cell_type": "markdown",
      "metadata": {
        "id": "MAM8QecJOyqn"
      },
      "source": [
        "## **Training**"
      ]
    },
    {
      "cell_type": "code",
      "execution_count": 137,
      "metadata": {
        "id": "lOqcmYzMO7jB"
      },
      "outputs": [],
      "source": [
        "def train(tr_set, dv_set, model, config, device):\n",
        "    ''' DNN training '''\n",
        "\n",
        "    n_epochs = config['n_epochs']  # Maximum number of epochs\n",
        "\n",
        "    # Setup optimizer\n",
        "    optimizer = getattr(torch.optim, config['optimizer'])(\n",
        "        model.parameters(), **config['optim_hparas'])\n",
        "\n",
        "    min_mse = 1000.\n",
        "    loss_record = {'train': [], 'dev': []}      # for recording training loss\n",
        "    early_stop_cnt = 0\n",
        "    epoch = 0\n",
        "    while epoch < n_epochs:\n",
        "        model.train()                           # set model to training mode\n",
        "        for x, y in tr_set:                     # iterate through the dataloader\n",
        "            optimizer.zero_grad()               # set gradient to zero\n",
        "            x, y = x.to(device), y.to(device)   # move data to device (cpu/cuda)\n",
        "            pred = model(x)                     # forward pass (compute output)\n",
        "            mse_loss = model.cal_loss(pred, y)  # compute loss\n",
        "            mse_loss.backward()                 # compute gradient (backpropagation)\n",
        "            optimizer.step()                    # update model with optimizer\n",
        "            loss_record['train'].append(mse_loss.detach().cpu().item())\n",
        "\n",
        "        # After each epoch, test your model on the validation (development) set.\n",
        "        dev_mse = dev(dv_set, model, device)\n",
        "        if dev_mse < min_mse:\n",
        "            # Save model if your model improved\n",
        "            min_mse = dev_mse\n",
        "            print('Saving model (epoch = {:4d}, loss = {:.4f})'\n",
        "                .format(epoch + 1, min_mse))\n",
        "            torch.save(model.state_dict(), config['save_path'])  # Save model to specified path\n",
        "            early_stop_cnt = 0\n",
        "        else:\n",
        "            early_stop_cnt += 1\n",
        "\n",
        "        epoch += 1\n",
        "        loss_record['dev'].append(dev_mse)\n",
        "        if early_stop_cnt > config['early_stop']:\n",
        "            # Stop training if your model stops improving for \"config['early_stop']\" epochs.\n",
        "            break\n",
        "\n",
        "    print('Finished training after {} epochs'.format(epoch))\n",
        "    return min_mse, loss_record"
      ]
    },
    {
      "cell_type": "markdown",
      "metadata": {
        "id": "0hSd4Bn3O2PL"
      },
      "source": [
        "## **Validation**"
      ]
    },
    {
      "cell_type": "code",
      "execution_count": 138,
      "metadata": {
        "id": "yrxrD3YsN3U2"
      },
      "outputs": [],
      "source": [
        "def dev(dv_set, model, device):\n",
        "    model.eval()                                # set model to evalutation mode\n",
        "    total_loss = 0\n",
        "    for x, y in dv_set:                         # iterate through the dataloader\n",
        "        x, y = x.to(device), y.to(device)       # move data to device (cpu/cuda)\n",
        "        with torch.no_grad():                   # disable gradient calculation\n",
        "            pred = model(x)                     # forward pass (compute output)\n",
        "            mse_loss = model.cal_loss(pred, y)  # compute loss\n",
        "        total_loss += mse_loss.detach().cpu().item() * len(x)  # accumulate loss\n",
        "    total_loss = total_loss / len(dv_set.dataset)              # compute averaged loss\n",
        "\n",
        "    return total_loss"
      ]
    },
    {
      "cell_type": "markdown",
      "metadata": {
        "id": "g0pdrhQAO41L"
      },
      "source": [
        "## **Testing**"
      ]
    },
    {
      "cell_type": "code",
      "execution_count": 139,
      "metadata": {
        "id": "aSBMRFlYN5tB"
      },
      "outputs": [],
      "source": [
        "def test(tt_set, model, device):\n",
        "    model.eval()                                # set model to evalutation mode\n",
        "    preds = []\n",
        "    for x in tt_set:                            # iterate through the dataloader\n",
        "        x = x.to(device)                        # move data to device (cpu/cuda)\n",
        "        with torch.no_grad():                   # disable gradient calculation\n",
        "            pred = model(x)                     # forward pass (compute output)\n",
        "            preds.append(pred.detach().cpu())   # collect prediction\n",
        "    preds = torch.cat(preds, dim=0).numpy()     # concatenate all predictions and convert to a numpy array\n",
        "    return preds"
      ]
    },
    {
      "cell_type": "markdown",
      "metadata": {
        "id": "SvckkF5dvf0j"
      },
      "source": [
        "# **Setup Hyper-parameters**\n",
        "\n",
        "`config` contains hyper-parameters for training and the path to save your model."
      ]
    },
    {
      "cell_type": "code",
      "execution_count": 140,
      "metadata": {
        "id": "NPXpdumwPjE7"
      },
      "outputs": [],
      "source": [
        "device = get_device()                 # get the current available device ('cpu' or 'cuda')\n",
        "os.makedirs('models', exist_ok=True)  # The trained model will be saved to ./models/\n",
        "target_only = True                   # TODO: Using 40 states & 2 tested_positive features\n",
        "\n",
        "# TODO: How to tune these hyper-parameters to improve your model's performance?\n",
        "config = {\n",
        "    'n_epochs': 10000,                # maximum number of epochs\n",
        "    'batch_size': 200,               # mini-batch size for dataloader\n",
        "    'optimizer': 'Adam',              # optimization algorithm (optimizer in torch.optim)\n",
        "    'optim_hparas': {                # hyper-parameters for the optimizer (depends on which optimizer you are using)\n",
        "        'lr': 0.0005,                 # learning rate of SGD\n",
        "        #'momentum': 0.9              # momentum for SGD\n",
        "    },\n",
        "    'early_stop': 1000,               # early stopping epochs (the number epochs since your model's last improvement)\n",
        "    'save_path': 'models/model.pth'  # your model will be saved here\n",
        "}"
      ]
    },
    {
      "cell_type": "markdown",
      "metadata": {
        "id": "6j1eOV3TOH-j"
      },
      "source": [
        "# **Load data and model**"
      ]
    },
    {
      "cell_type": "code",
      "execution_count": 141,
      "metadata": {
        "colab": {
          "base_uri": "https://localhost:8080/"
        },
        "id": "eNrYBMmePLKm",
        "outputId": "fcd4f175-4f7e-4306-f33c-5f8285f11dce"
      },
      "outputs": [
        {
          "name": "stdout",
          "output_type": "stream",
          "text": [
            "Finished reading the train set of COVID19 Dataset (2430 samples found, each dim = 14)\n",
            "Finished reading the dev set of COVID19 Dataset (270 samples found, each dim = 14)\n",
            "Finished reading the test set of COVID19 Dataset (893 samples found, each dim = 14)\n"
          ]
        }
      ],
      "source": [
        "tr_set = prep_dataloader(tr_path, 'train', config['batch_size'], target_only=target_only)\n",
        "dv_set = prep_dataloader(tr_path, 'dev', config['batch_size'], target_only=target_only)\n",
        "tt_set = prep_dataloader(tt_path, 'test', config['batch_size'], target_only=target_only)"
      ]
    },
    {
      "cell_type": "code",
      "execution_count": 142,
      "metadata": {
        "id": "FHylSirLP9oh"
      },
      "outputs": [],
      "source": [
        "model = NeuralNet(tr_set.dataset.dim).to(device)  # Construct model and move to device"
      ]
    },
    {
      "cell_type": "markdown",
      "metadata": {
        "id": "sX2B_zgSOPTJ"
      },
      "source": [
        "# **Start Training!**"
      ]
    },
    {
      "cell_type": "code",
      "execution_count": 143,
      "metadata": {
        "colab": {
          "base_uri": "https://localhost:8080/"
        },
        "id": "GrEbUxazQAAZ",
        "outputId": "f4f3bd74-2d97-4275-b69f-6609976b91f9"
      },
      "outputs": [
        {
          "name": "stdout",
          "output_type": "stream",
          "text": [
            "Saving model (epoch =    1, loss = 285.6396)\n",
            "Saving model (epoch =    2, loss = 284.9287)\n",
            "Saving model (epoch =    3, loss = 279.7051)\n",
            "Saving model (epoch =    4, loss = 268.6129)\n",
            "Saving model (epoch =    5, loss = 252.4105)\n",
            "Saving model (epoch =    6, loss = 234.6175)\n",
            "Saving model (epoch =    7, loss = 216.1028)\n",
            "Saving model (epoch =    8, loss = 203.8649)\n",
            "Saving model (epoch =   12, loss = 202.7610)\n",
            "Saving model (epoch =   13, loss = 192.3642)\n",
            "Saving model (epoch =   14, loss = 188.6892)\n",
            "Saving model (epoch =   15, loss = 184.6728)\n",
            "Saving model (epoch =   16, loss = 181.3437)\n",
            "Saving model (epoch =   17, loss = 169.0133)\n",
            "Saving model (epoch =   18, loss = 159.3363)\n",
            "Saving model (epoch =   19, loss = 143.9211)\n",
            "Saving model (epoch =   20, loss = 130.9947)\n",
            "Saving model (epoch =   21, loss = 129.0524)\n",
            "Saving model (epoch =   24, loss = 117.0075)\n",
            "Saving model (epoch =   25, loss = 110.1371)\n",
            "Saving model (epoch =   26, loss = 96.7486)\n",
            "Saving model (epoch =   28, loss = 93.0642)\n",
            "Saving model (epoch =   29, loss = 89.0020)\n",
            "Saving model (epoch =   30, loss = 78.8980)\n",
            "Saving model (epoch =   32, loss = 68.0999)\n",
            "Saving model (epoch =   34, loss = 67.7269)\n",
            "Saving model (epoch =   37, loss = 58.5637)\n",
            "Saving model (epoch =   38, loss = 55.5209)\n",
            "Saving model (epoch =   39, loss = 51.2925)\n",
            "Saving model (epoch =   40, loss = 50.6037)\n",
            "Saving model (epoch =   42, loss = 43.2726)\n",
            "Saving model (epoch =   44, loss = 36.0896)\n",
            "Saving model (epoch =   45, loss = 16.5669)\n",
            "Saving model (epoch =   63, loss = 12.1885)\n",
            "Saving model (epoch =   65, loss = 11.8311)\n",
            "Saving model (epoch =   73, loss = 11.2198)\n",
            "Saving model (epoch =   78, loss = 11.0387)\n",
            "Saving model (epoch =   90, loss = 10.1363)\n",
            "Saving model (epoch =  101, loss = 9.8587)\n",
            "Saving model (epoch =  103, loss = 9.5221)\n",
            "Saving model (epoch =  108, loss = 9.3969)\n",
            "Saving model (epoch =  110, loss = 9.3221)\n",
            "Saving model (epoch =  125, loss = 8.9400)\n",
            "Saving model (epoch =  127, loss = 8.8043)\n",
            "Saving model (epoch =  130, loss = 8.4339)\n",
            "Saving model (epoch =  137, loss = 8.1764)\n",
            "Saving model (epoch =  141, loss = 7.6754)\n",
            "Saving model (epoch =  150, loss = 7.4546)\n",
            "Saving model (epoch =  152, loss = 7.4026)\n",
            "Saving model (epoch =  156, loss = 7.3000)\n",
            "Saving model (epoch =  158, loss = 7.2347)\n",
            "Saving model (epoch =  163, loss = 7.0642)\n",
            "Saving model (epoch =  169, loss = 6.7041)\n",
            "Saving model (epoch =  173, loss = 6.2949)\n",
            "Saving model (epoch =  184, loss = 5.8875)\n",
            "Saving model (epoch =  196, loss = 5.5499)\n",
            "Saving model (epoch =  199, loss = 5.5419)\n",
            "Saving model (epoch =  200, loss = 5.4357)\n",
            "Saving model (epoch =  206, loss = 5.2605)\n",
            "Saving model (epoch =  211, loss = 5.0688)\n",
            "Saving model (epoch =  212, loss = 5.0138)\n",
            "Saving model (epoch =  214, loss = 5.0081)\n",
            "Saving model (epoch =  215, loss = 4.9861)\n",
            "Saving model (epoch =  217, loss = 4.9042)\n",
            "Saving model (epoch =  218, loss = 4.7808)\n",
            "Saving model (epoch =  222, loss = 4.7574)\n",
            "Saving model (epoch =  224, loss = 4.5689)\n",
            "Saving model (epoch =  230, loss = 4.3952)\n",
            "Saving model (epoch =  232, loss = 4.2762)\n",
            "Saving model (epoch =  234, loss = 4.0775)\n",
            "Saving model (epoch =  236, loss = 4.0116)\n",
            "Saving model (epoch =  243, loss = 3.9465)\n",
            "Saving model (epoch =  246, loss = 3.6513)\n",
            "Saving model (epoch =  254, loss = 3.5922)\n",
            "Saving model (epoch =  256, loss = 3.2320)\n",
            "Saving model (epoch =  265, loss = 3.0743)\n",
            "Saving model (epoch =  275, loss = 3.0466)\n",
            "Saving model (epoch =  276, loss = 3.0182)\n",
            "Saving model (epoch =  277, loss = 2.8191)\n",
            "Saving model (epoch =  288, loss = 2.7990)\n",
            "Saving model (epoch =  289, loss = 2.6098)\n",
            "Saving model (epoch =  293, loss = 2.4073)\n",
            "Saving model (epoch =  301, loss = 2.4007)\n",
            "Saving model (epoch =  303, loss = 2.3246)\n",
            "Saving model (epoch =  310, loss = 2.2107)\n",
            "Saving model (epoch =  314, loss = 2.1027)\n",
            "Saving model (epoch =  322, loss = 2.0512)\n",
            "Saving model (epoch =  323, loss = 1.9544)\n",
            "Saving model (epoch =  326, loss = 1.8908)\n",
            "Saving model (epoch =  332, loss = 1.8908)\n",
            "Saving model (epoch =  336, loss = 1.8178)\n",
            "Saving model (epoch =  339, loss = 1.7766)\n",
            "Saving model (epoch =  347, loss = 1.6678)\n",
            "Saving model (epoch =  357, loss = 1.6385)\n",
            "Saving model (epoch =  360, loss = 1.6031)\n",
            "Saving model (epoch =  364, loss = 1.4980)\n",
            "Saving model (epoch =  368, loss = 1.4888)\n",
            "Saving model (epoch =  375, loss = 1.4800)\n",
            "Saving model (epoch =  378, loss = 1.3900)\n",
            "Saving model (epoch =  388, loss = 1.3058)\n",
            "Saving model (epoch =  393, loss = 1.2886)\n",
            "Saving model (epoch =  403, loss = 1.2506)\n",
            "Saving model (epoch =  418, loss = 1.2181)\n",
            "Saving model (epoch =  421, loss = 1.1773)\n",
            "Saving model (epoch =  423, loss = 1.1770)\n",
            "Saving model (epoch =  424, loss = 1.1770)\n",
            "Saving model (epoch =  428, loss = 1.1729)\n",
            "Saving model (epoch =  431, loss = 1.1615)\n",
            "Saving model (epoch =  443, loss = 1.1332)\n",
            "Saving model (epoch =  448, loss = 1.1021)\n",
            "Saving model (epoch =  458, loss = 1.0613)\n",
            "Saving model (epoch =  468, loss = 1.0371)\n",
            "Saving model (epoch =  482, loss = 1.0137)\n",
            "Saving model (epoch =  483, loss = 0.9873)\n",
            "Saving model (epoch =  500, loss = 0.9851)\n",
            "Saving model (epoch =  512, loss = 0.9738)\n",
            "Saving model (epoch =  518, loss = 0.9510)\n",
            "Saving model (epoch =  537, loss = 0.9404)\n",
            "Saving model (epoch =  573, loss = 0.9401)\n",
            "Saving model (epoch =  578, loss = 0.9310)\n",
            "Saving model (epoch =  600, loss = 0.9225)\n",
            "Saving model (epoch =  604, loss = 0.9203)\n",
            "Saving model (epoch =  607, loss = 0.9056)\n",
            "Saving model (epoch =  610, loss = 0.9003)\n",
            "Saving model (epoch =  668, loss = 0.8931)\n",
            "Saving model (epoch =  670, loss = 0.8842)\n",
            "Saving model (epoch =  683, loss = 0.8800)\n",
            "Saving model (epoch =  822, loss = 0.8800)\n",
            "Saving model (epoch =  857, loss = 0.8776)\n",
            "Saving model (epoch =  866, loss = 0.8733)\n",
            "Saving model (epoch =  884, loss = 0.8702)\n",
            "Saving model (epoch =  931, loss = 0.8668)\n",
            "Saving model (epoch = 1002, loss = 0.8548)\n",
            "Finished training after 2003 epochs\n"
          ]
        }
      ],
      "source": [
        "model_loss, model_loss_record = train(tr_set, dv_set, model, config, device)"
      ]
    },
    {
      "cell_type": "code",
      "execution_count": 144,
      "metadata": {
        "colab": {
          "base_uri": "https://localhost:8080/",
          "height": 295
        },
        "id": "hsNO9nnXQBvP",
        "outputId": "1626def6-94c7-4a87-9447-d939f827c8eb"
      },
      "outputs": [
        {
          "data": {
            "image/png": "[encoded data removed]",
            "text/plain": [
              "<Figure size 600x400 with 1 Axes>"
            ]
          },
          "metadata": {},
          "output_type": "display_data"
        }
      ],
      "source": [
        "plot_learning_curve(model_loss_record, title='deep model')"
      ]
    },
    {
      "cell_type": "code",
      "execution_count": 145,
      "metadata": {
        "colab": {
          "base_uri": "https://localhost:8080/",
          "height": 350
        },
        "id": "3iZTVn5WQFpX",
        "outputId": "a2d5e118-559d-45c6-b644-6792af54663d"
      },
      "outputs": [
        {
          "data": {
            "image/png": "[encoded data removed]",
            "text/plain": [
              "<Figure size 500x500 with 1 Axes>"
            ]
          },
          "metadata": {},
          "output_type": "display_data"
        }
      ],
      "source": [
        "del model\n",
        "model = NeuralNet(tr_set.dataset.dim).to(device)\n",
        "ckpt = torch.load(config['save_path'], map_location='cpu')  # Load your best model\n",
        "model.load_state_dict(ckpt)\n",
        "plot_pred(dv_set, model, device)  # Show prediction on the validation set"
      ]
    },
    {
      "cell_type": "markdown",
      "metadata": {},
      "source": [
        "### Show the model_loss of your model on the training set."
      ]
    },
    {
      "cell_type": "code",
      "execution_count": 146,
      "metadata": {},
      "outputs": [
        {
          "name": "stdout",
          "output_type": "stream",
          "text": [
            "model_loss: 0.8548\n"
          ]
        }
      ],
      "source": [
        "print('model_loss: {:.4f}'.format(model_loss))\n"
      ]
    },
    {
      "cell_type": "markdown",
      "metadata": {
        "id": "aQikz3IPiyPf"
      },
      "source": [
        "# **Testing**\n",
        "The predictions of your model on testing set will be stored at `pred.csv`."
      ]
    },
    {
      "cell_type": "code",
      "execution_count": 147,
      "metadata": {
        "colab": {
          "base_uri": "https://localhost:8080/"
        },
        "id": "O8cTuQjQQOon",
        "outputId": "6bc5de07-4c5a-4e87-9ae3-d09f539c5f2c"
      },
      "outputs": [
        {
          "name": "stdout",
          "output_type": "stream",
          "text": [
            "Saving results to pred.csv\n"
          ]
        }
      ],
      "source": [
        "def save_pred(preds, file):\n",
        "    ''' Save predictions to specified file '''\n",
        "    print('Saving results to {}'.format(file))\n",
        "    with open(file, 'w') as fp:\n",
        "        writer = csv.writer(fp)\n",
        "        writer.writerow(['id', 'tested_positive'])\n",
        "        for i, p in enumerate(preds):\n",
        "            writer.writerow([i, p])\n",
        "\n",
        "preds = test(tt_set, model, device)  # predict COVID-19 cases with your model\n",
        "save_pred(preds, 'pred.csv')         # save prediction file to pred.csv"
      ]
    },
    {
      "cell_type": "markdown",
      "metadata": {
        "id": "nfrVxqJanGpE"
      },
      "source": [
        "# **Hints**\n",
        "\n",
        "- simple baseline score: 2.03004\n",
        "- medium baseline score: 1.28359\n",
        "- strong baseline score: 0.88017\n",
        "\n",
        "## **Simple Baseline**\n",
        "* Run sample code\n",
        "\n",
        "## **Medium Baseline**\n",
        "* Feature selection: 40 states + 2 `tested_positive` (`TODO` in dataset)\n",
        "\n",
        "## **Strong Baseline**\n",
        "* Feature selection (what other features are useful?)\n",
        "* DNN architecture (layers? dimension? activation function?)\n",
        "* Training (mini-batch? optimizer? learning rate?)\n",
        "* L2 regularization\n",
        "* There are some mistakes in the sample code, can you find them?"
      ]
    },
    {
      "cell_type": "markdown",
      "metadata": {
        "id": "9tmCwXgpot3t"
      },
      "source": [
        "# **Reference**\n",
        "This code is completely written by Heng-Jui Chang @ NTUEE.  \n",
        "Copying or reusing this code is required to specify the original author.\n",
        "\n",
        "E.g.  \n",
        "Source: Heng-Jui Chang @ NTUEE (https://github.com/ga642381/ML2021-Spring/blob/main/HW01/HW01.ipynb)\n",
        "\n",
        "[1] https://www.kaggle.com/code/hanxiangli/private-strong-base-line\n"
      ]
    }
  ],
  "metadata": {
    "accelerator": "GPU",
    "colab": {
      "name": "ML2021Spring - HW1.ipynb",
      "provenance": [],
      "toc_visible": true
    },
    "kernelspec": {
      "display_name": "Python 3",
      "name": "python3"
    },
    "language_info": {
      "codemirror_mode": {
        "name": "ipython",
        "version": 3
      },
      "file_extension": ".py",
      "mimetype": "text/x-python",
      "name": "python",
      "nbconvert_exporter": "python",
      "pygments_lexer": "ipython3",
      "version": "3.9.19"
    }
  },
  "nbformat": 4,
  "nbformat_minor": 0
}
